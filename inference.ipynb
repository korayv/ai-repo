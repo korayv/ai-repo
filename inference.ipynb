{
 "cells": [
  {
   "metadata": {},
   "cell_type": "markdown",
   "source": [
    "# Inference to Run The Models\n",
    "This is a inference to run the existing models in HuggingFace"
   ],
   "id": "8a77807f92f26ee"
  },
  {
   "metadata": {},
   "cell_type": "code",
   "outputs": [],
   "execution_count": null,
   "source": "!pip install torch transformers huggingface-hub",
   "id": "bc0b61a588271327"
  },
  {
   "metadata": {},
   "cell_type": "code",
   "outputs": [],
   "execution_count": null,
   "source": [
    "import torch\n",
    "from transformers import AutoTokenizer, AutoModelForCausalLM\n",
    "from huggingface_hub import login, HfApi\n",
    "\n",
    "# Log in to Hugging Face\n",
    "login(token=\"YOUR_HF_API_TOKEN\")\n",
    "\n",
    "model_name = \"Unisyn-corp/nbfi-model-8b\"\n",
    "\n",
    "# Check if tokenizer exists; if not, load a base tokenizer and save it to the repo directory\n",
    "try:\n",
    "    tokenizer = AutoTokenizer.from_pretrained(\n",
    "        model_name,\n",
    "        use_auth_token=True\n",
    "    )\n",
    "except OSError:\n",
    "    # Fallback to a base model's tokenizer (replace with actual base model)\n",
    "    base_model = \"meta-llama/Meta-Llama-7B\"\n",
    "    tokenizer = AutoTokenizer.from_pretrained(base_model)\n",
    "    tokenizer.save_pretrained(\"./local_tokenizer\")\n",
    "\n",
    "    # (Optional) push the newly saved tokenizer to your repo\n",
    "    # This requires your repo to be set up locally, or you can use the HfApi to upload_folder.\n",
    "    api = HfApi()\n",
    "    api.upload_folder(\n",
    "        folder_path=\"./local_tokenizer\",\n",
    "        repo_id=model_name,\n",
    "        token=\"YOUR_HF_API_TOKEN\"\n",
    "    )\n",
    "    # Now retry loading from the repo\n",
    "    tokenizer = AutoTokenizer.from_pretrained(\n",
    "        model_name,\n",
    "        use_auth_token=True\n",
    "    )\n",
    "\n",
    "# Adjust pad token if needed\n",
    "if tokenizer.pad_token is None:\n",
    "    tokenizer.pad_token = tokenizer.eos_token\n",
    "    tokenizer.pad_token_id = tokenizer.eos_token_id\n",
    "\n",
    "# Load model from private repo\n",
    "model = AutoModelForCausalLM.from_pretrained(\n",
    "    model_name,\n",
    "    device_map=\"auto\",\n",
    "    torch_dtype=torch.bfloat16,\n",
    "    use_auth_token=True\n",
    ")\n",
    "\n",
    "# Tokenize the prompt\n",
    "prompt = \"Explain how Non-Bank Financial Institutions manage risk.\"\n",
    "inputs = tokenizer(prompt, return_tensors=\"pt\").to(model.device)\n",
    "\n",
    "# Generate text\n",
    "outputs = model.generate(\n",
    "    **inputs,\n",
    "    max_new_tokens=200,\n",
    "    do_sample=True,\n",
    "    temperature=0.7,\n",
    "    top_p=0.9\n",
    ")\n",
    "\n",
    "# Decode and print\n",
    "print(tokenizer.decode(outputs[0], skip_special_tokens=True))\n"
   ],
   "id": "fbc121e30a2defb3"
  }
 ],
 "metadata": {
  "kernelspec": {
   "display_name": "Python 3",
   "language": "python",
   "name": "python3"
  },
  "language_info": {
   "codemirror_mode": {
    "name": "ipython",
    "version": 2
   },
   "file_extension": ".py",
   "mimetype": "text/x-python",
   "name": "python",
   "nbconvert_exporter": "python",
   "pygments_lexer": "ipython2",
   "version": "2.7.6"
  }
 },
 "nbformat": 4,
 "nbformat_minor": 5
}
